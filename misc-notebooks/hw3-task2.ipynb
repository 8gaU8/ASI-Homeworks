{
 "cells": [
  {
   "cell_type": "code",
   "execution_count": 2,
   "metadata": {},
   "outputs": [
    {
     "name": "stdout",
     "output_type": "stream",
     "text": [
      "\u001b[1m\u001b[36mcolorchecker 2lights\u001b[m\u001b[m \u001b[1m\u001b[36mwhite 2lights\u001b[m\u001b[m\n"
     ]
    }
   ],
   "source": [
    "from asi import path_config\n",
    "\n",
    "root = path_config.measurements / \"Session1\"\n",
    "nuance_root = root / \"Nuance\"\n",
    "!ls \"{nuance_root}\""
   ]
  },
  {
   "cell_type": "code",
   "execution_count": null,
   "metadata": {},
   "outputs": [],
   "source": [
    "\n",
    "from natsort import natsorted\n",
    "\n",
    "colorchecker_path = nuance_root / \"colorchecker 2lights\"\n",
    "path = next(s.name for s in colorchecker_path.glob(\"*\"))\n",
    "\n",
    "\n",
    "def get_tif_name(wavelength: int):\n",
    "    return f\"Image_Cube_{wavelength}.tif\"\n",
    "\n",
    "get_tif_name(0)"
   ]
  },
  {
   "cell_type": "code",
   "execution_count": null,
   "metadata": {},
   "outputs": [],
   "source": []
  }
 ],
 "metadata": {
  "kernelspec": {
   "display_name": "home",
   "language": "python",
   "name": "python3"
  },
  "language_info": {
   "codemirror_mode": {
    "name": "ipython",
    "version": 3
   },
   "file_extension": ".py",
   "mimetype": "text/x-python",
   "name": "python",
   "nbconvert_exporter": "python",
   "pygments_lexer": "ipython3",
   "version": "3.10.13"
  }
 },
 "nbformat": 4,
 "nbformat_minor": 2
}
