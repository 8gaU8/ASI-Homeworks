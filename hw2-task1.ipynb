{
 "cells": [
  {
   "cell_type": "code",
   "execution_count": null,
   "metadata": {},
   "outputs": [],
   "source": [
    "from pathlib import Path\n",
    "\n",
    "import matplotlib.pyplot as plt\n",
    "\n",
    "from asi import load_spectral_image, reconstruct_rgb, draw_multi_crosss, get_wavelengths\n",
    "\n",
    "root = Path(\n",
    "    \"/Users/hagayuya/Library/CloudStorage/GoogleDrive-haga.yuya2.2016@gmail.com/.shortcut-targets-by-id/1lu28OOb-OG-AT4lsiancCe0miLgxSzr2/ASI course 2024/group3/Session1\"\n",
    ")"
   ]
  },
  {
   "cell_type": "markdown",
   "metadata": {},
   "source": [
    "# Spectral Scanner"
   ]
  },
  {
   "cell_type": "code",
   "execution_count": null,
   "metadata": {},
   "outputs": [],
   "source": [
    "spec_path = root / \"Specim scanner/Color_checker_8_binning\""
   ]
  },
  {
   "cell_type": "code",
   "execution_count": null,
   "metadata": {},
   "outputs": [],
   "source": [
    "path = spec_path / \"capture\" / \"solutions_scan_0110\"\n",
    "file_stem = str(path)\n",
    "spectral_image, envi_header = load_spectral_image(file_stem)"
   ]
  },
  {
   "cell_type": "code",
   "execution_count": null,
   "metadata": {},
   "outputs": [],
   "source": [
    "# Resolution\n",
    "plt.rcParams[\"figure.dpi\"] = 100\n",
    "# show gray scale slice of 3D spectral image\n",
    "plt.imshow(spectral_image[:, 100, :], cmap=\"gray\")\n",
    "plt.colorbar()"
   ]
  },
  {
   "cell_type": "code",
   "execution_count": null,
   "metadata": {},
   "outputs": [],
   "source": [
    "rgb_view = reconstruct_rgb(spectral_image, envi_header)\n",
    "plt.imshow(rgb_view)"
   ]
  },
  {
   "cell_type": "code",
   "execution_count": null,
   "metadata": {},
   "outputs": [],
   "source": [
    "# Show spectra\n",
    "colors = [\"r\", \"g\"]\n",
    "positions = [(300, 500), (1500, 500)]\n",
    "canvas = draw_multi_crosss(rgb_view, positions)\n",
    "\n",
    "plt.rcParams[\"figure.dpi\"] = 100\n",
    "fig, axes = plt.subplots(1, 3, figsize=(10, 5), tight_layout=True)\n",
    "\n",
    "wavelength = get_wavelengths(envi_header)\n",
    "for pos, color, ax in zip(positions, colors, axes[:2]):\n",
    "    ax.plot(wavelength, spectral_image[pos[1], :, pos[0]], color=color)\n",
    "    ax.set_title(f\"Spectrum at {pos[0]}th pixel\")\n",
    "    ax.set_xlabel(\"Wavelength[nm]\")\n",
    "\n",
    "axes[2].imshow(canvas)\n",
    "axes[2].set_title(\"RGB view of spectral image\")"
   ]
  },
  {
   "cell_type": "markdown",
   "metadata": {},
   "source": [
    "## Specium IQ"
   ]
  },
  {
   "cell_type": "code",
   "execution_count": null,
   "metadata": {},
   "outputs": [],
   "source": [
    "iq_path = root / \"SpecimIQ\" / \"404\" / \"capture\""
   ]
  },
  {
   "cell_type": "code",
   "execution_count": null,
   "metadata": {},
   "outputs": [],
   "source": [
    "path = iq_path / \"404\"\n",
    "file_stem = str(path)\n",
    "spectral_image, envi_header = load_spectral_image(file_stem)"
   ]
  },
  {
   "cell_type": "code",
   "execution_count": null,
   "metadata": {},
   "outputs": [],
   "source": [
    "# Resolution\n",
    "plt.rcParams[\"figure.dpi\"] = 100\n",
    "# show gray scale slice of 3D spectral image\n",
    "plt.imshow(spectral_image[:, 100, :], cmap=\"gray\")\n",
    "plt.colorbar()"
   ]
  },
  {
   "cell_type": "code",
   "execution_count": null,
   "metadata": {},
   "outputs": [],
   "source": [
    "rgb_view = reconstruct_rgb(spectral_image, envi_header)\n",
    "plt.imshow(rgb_view)"
   ]
  },
  {
   "cell_type": "code",
   "execution_count": null,
   "metadata": {},
   "outputs": [],
   "source": [
    "# Show spectra\n",
    "colors = [\"r\", \"g\"]\n",
    "positions = [(270, 320), (200, 170)]\n",
    "\n",
    "canvas = draw_multi_crosss(rgb_view, positions)\n",
    "\n",
    "plt.rcParams[\"figure.dpi\"] = 100\n",
    "fig, axes = plt.subplots(1, 3, figsize=(10, 5), tight_layout=True)\n",
    "\n",
    "wavelength = get_wavelengths(envi_header)\n",
    "for pos, color, ax in zip(positions, colors, axes[:2]):\n",
    "    ax.plot(wavelength, spectral_image[pos[1], :, pos[0]], color=color)\n",
    "    ax.set_title(f\"Spectrum at pixel {pos}\")\n",
    "    ax.set_xlabel(\"Wavelength[nm]\")\n",
    "\n",
    "axes[2].imshow(canvas)\n",
    "axes[2].set_title(\"RGB view of spectral image\")"
   ]
  }
 ],
 "metadata": {
  "kernelspec": {
   "display_name": "home",
   "language": "python",
   "name": "python3"
  },
  "language_info": {
   "codemirror_mode": {
    "name": "ipython",
    "version": 3
   },
   "file_extension": ".py",
   "mimetype": "text/x-python",
   "name": "python",
   "nbconvert_exporter": "python",
   "pygments_lexer": "ipython3",
   "version": "3.10.13"
  }
 },
 "nbformat": 4,
 "nbformat_minor": 2
}
